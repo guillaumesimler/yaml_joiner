{
 "cells": [
  {
   "cell_type": "markdown",
   "metadata": {},
   "source": [
    "# YAML Joiner\n",
    "\n",
    "## Import module\n",
    "\n"
   ]
  },
  {
   "cell_type": "code",
   "execution_count": 1,
   "metadata": {
    "collapsed": true
   },
   "outputs": [],
   "source": [
    "# Import the modules\n",
    "\n",
    "import os"
   ]
  },
  {
   "cell_type": "code",
   "execution_count": 14,
   "metadata": {
    "collapsed": true
   },
   "outputs": [],
   "source": [
    "def import_file(file):\n",
    "    with open(file) as f:\n",
    "        lines = f.readlines()\n",
    "        \n",
    "    dependencies = []\n",
    "    pip = []\n",
    "    write_dep = False\n",
    "    write_pip = False\n",
    "    \n",
    "    for line in lines:\n",
    "        if write_dep:\n",
    "            dependencies.append(line)\n",
    "        if write_pip:\n",
    "            pip.append(line)\n",
    "            \n",
    "        if \"dependencies\" in line:\n",
    "            write_dep = True\n",
    "        \n",
    "        if \"pip:\" in line:\n",
    "            write_pip = True\n",
    "            write_dep = False\n",
    "            \n",
    "        \n",
    "        if \"prefix:\" in line:\n",
    "            break\n",
    "    \n",
    "    dependencies = dependencies[:-1]\n",
    "    pip = pip[:-1]\n",
    "    return dependencies, pip"
   ]
  },
  {
   "cell_type": "code",
   "execution_count": 15,
   "metadata": {
    "collapsed": true
   },
   "outputs": [],
   "source": [
    "slave_dep, slave_pip = import_file(\"src/PDFv1.yaml\")\n",
    "master_dep, master_pip = import_file(\"src/proto_bal.yaml\")"
   ]
  },
  {
   "cell_type": "code",
   "execution_count": 16,
   "metadata": {
    "collapsed": true
   },
   "outputs": [],
   "source": [
    "def add_master(masters, slaves):\n",
    "    \n",
    "    output = []\n",
    "    for slave in slaves:\n",
    "        \n",
    "        slave_name = slave[:slave.index(\"=\")]\n",
    "        counter = 0\n",
    "        \n",
    "        for master in masters:\n",
    "            if slave_name in master:\n",
    "                counter +=1\n",
    "                break\n",
    "        \n",
    "        if counter == 0:\n",
    "            output.append(slave)\n",
    "            \n",
    "    return output"
   ]
  },
  {
   "cell_type": "code",
   "execution_count": 17,
   "metadata": {},
   "outputs": [],
   "source": [
    "dep_add = add_master(master_dep, slave_dep)\n",
    "\n",
    "master_dep += dep_add"
   ]
  },
  {
   "cell_type": "code",
   "execution_count": 18,
   "metadata": {},
   "outputs": [],
   "source": [
    "pip_add = add_master(master_pip, slave_pip)\n",
    "\n",
    "master_pip += pip_add"
   ]
  },
  {
   "cell_type": "code",
   "execution_count": 19,
   "metadata": {},
   "outputs": [
    {
     "data": {
      "text/plain": [
       "['  - argcomplete==1.8.2\\n',\n",
       " '  - backports-abc==0.5\\n',\n",
       " '  - backports.shutil-get-terminal-size==1.0.0\\n',\n",
       " '  - backports.ssl-match-hostname==3.5.0.1\\n',\n",
       " '  - beautifulsoup4==4.5.3\\n',\n",
       " '  - chardet==2.3.0\\n',\n",
       " '  - distribute==0.7.3\\n',\n",
       " '  - docx2txt==0.6\\n',\n",
       " '  - ebooklib==0.15\\n',\n",
       " '  - ipython-genutils==0.2.0\\n',\n",
       " '  - jupyter-client==5.1.0\\n',\n",
       " '  - jupyter-console==5.2.0\\n',\n",
       " '  - jupyter-core==4.3.0\\n',\n",
       " '  - lxml==4.1.0\\n',\n",
       " '  - olefile==0.44\\n',\n",
       " '  - pdfminer==20140328\\n',\n",
       " '  - pillow==4.3.0\\n',\n",
       " '  - pocketsphinx==0.1.3\\n',\n",
       " '  - prompt-toolkit==1.0.15\\n',\n",
       " '  - pypdf2==1.26.0\\n',\n",
       " '  - python-pptx==0.6.5\\n',\n",
       " '  - slate==0.3\\n',\n",
       " '  - speechrecognition==3.6.3\\n',\n",
       " '  - textract==1.6.1\\n',\n",
       " '  - win-unicode-console==0.5\\n',\n",
       " '  - xlrd==1.0.0\\n',\n",
       " '  - xlsxwriter==1.0.2\\n']"
      ]
     },
     "execution_count": 19,
     "metadata": {},
     "output_type": "execute_result"
    }
   ],
   "source": [
    "slave_pip"
   ]
  },
  {
   "cell_type": "code",
   "execution_count": 13,
   "metadata": {},
   "outputs": [
    {
     "data": {
      "text/plain": [
       "['  - backports-abc==0.5\\n',\n",
       " '  - backports.shutil-get-terminal-size==1.0.0\\n',\n",
       " '  - backports.ssl-match-hostname==3.5.0.1\\n',\n",
       " '  - chardet==3.0.4\\n',\n",
       " '  - et-xmlfile==1.0.1\\n',\n",
       " '  - forex-python==0.3.2\\n',\n",
       " '  - ipython-genutils==0.2.0\\n',\n",
       " '  - jupyter-client==5.1.0\\n',\n",
       " '  - jupyter-console==5.2.0\\n',\n",
       " '  - jupyter-core==4.3.0\\n',\n",
       " '  - prompt-toolkit==1.0.15\\n',\n",
       " '  - simplejson==3.11.1\\n',\n",
       " '  - urllib3==1.22\\n',\n",
       " '  - win-unicode-console==0.5\\n',\n",
       " '  - argcomplete==1.8.2\\n',\n",
       " '  - beautifulsoup4==4.5.3\\n',\n",
       " '  - distribute==0.7.3\\n',\n",
       " '  - docx2txt==0.6\\n',\n",
       " '  - ebooklib==0.15\\n',\n",
       " '  - lxml==4.1.0\\n',\n",
       " '  - olefile==0.44\\n',\n",
       " '  - pdfminer==20140328\\n',\n",
       " '  - pillow==4.3.0\\n',\n",
       " '  - pocketsphinx==0.1.3\\n',\n",
       " '  - pypdf2==1.26.0\\n',\n",
       " '  - python-pptx==0.6.5\\n',\n",
       " '  - slate==0.3\\n',\n",
       " '  - speechrecognition==3.6.3\\n',\n",
       " '  - textract==1.6.1\\n',\n",
       " '  - xlrd==1.0.0\\n',\n",
       " '  - xlsxwriter==1.0.2\\n']"
      ]
     },
     "execution_count": 13,
     "metadata": {},
     "output_type": "execute_result"
    }
   ],
   "source": [
    "master_pip"
   ]
  },
  {
   "cell_type": "code",
   "execution_count": 50,
   "metadata": {
    "collapsed": true
   },
   "outputs": [],
   "source": [
    "def import_headers(file):\n",
    "    \n",
    "    with open(file) as f:\n",
    "        lines = f.readlines()\n",
    "        \n",
    "    header = []\n",
    "\n",
    "    for line in lines:\n",
    "        header.append(line)\n",
    "        \n",
    "        if \"dependencies\" in line:\n",
    "            break\n",
    "    \n",
    "    closing = lines[-2:-1]\n",
    "    \n",
    "    return header, closing"
   ]
  },
  {
   "cell_type": "code",
   "execution_count": 51,
   "metadata": {},
   "outputs": [],
   "source": [
    "master_head, master_closing = import_headers('src/proto_bal.yaml')"
   ]
  },
  {
   "cell_type": "code",
   "execution_count": 52,
   "metadata": {},
   "outputs": [
    {
     "data": {
      "text/plain": [
       "['prefix: C:\\\\ProgramData\\\\Anaconda2\\\\envs\\\\proto_bal\\n']"
      ]
     },
     "execution_count": 52,
     "metadata": {},
     "output_type": "execute_result"
    }
   ],
   "source": [
    "master_closing"
   ]
  },
  {
   "cell_type": "code",
   "execution_count": 53,
   "metadata": {},
   "outputs": [],
   "source": [
    "new_yaml = master_head + master_dep + ['  - pip:\\n'] + master_pip + master_closing"
   ]
  },
  {
   "cell_type": "code",
   "execution_count": 54,
   "metadata": {
    "collapsed": true
   },
   "outputs": [],
   "source": [
    "def write_to_file(filename, list_lines, path = 'dir/'):\n",
    "    with open(path + filename, \"w\") as f:\n",
    "        for line in list_lines:\n",
    "            f.write(line)\n",
    "            \n",
    "    return"
   ]
  },
  {
   "cell_type": "code",
   "execution_count": 55,
   "metadata": {},
   "outputs": [],
   "source": [
    "write_to_file('proto_bal.yaml', new_yaml)"
   ]
  },
  {
   "cell_type": "code",
   "execution_count": 56,
   "metadata": {},
   "outputs": [
    {
     "data": {
      "text/plain": [
       "['name: proto_bal\\n',\n",
       " 'channels:\\n',\n",
       " '- conda-forge\\n',\n",
       " '- defaults\\n',\n",
       " 'dependencies:\\n',\n",
       " '- ca-certificates=2017.11.5=0\\n',\n",
       " '- asn1crypto=0.22.0=py27_0\\n',\n",
       " '- backports=1.0=py27_0\\n',\n",
       " '- backports_abc=0.5=py27_0\\n',\n",
       " '- bleach=1.5.0=py27_0\\n',\n",
       " '- certifi=2016.2.28=py27_0\\n',\n",
       " '- cffi=1.10.0=py27_0\\n',\n",
       " '- colorama=0.3.9=py27_0\\n',\n",
       " '- configparser=3.5.0=py27_0\\n',\n",
       " '- cryptography=1.8.1=py27_0\\n',\n",
       " '- cycler=0.10.0=py27_0\\n',\n",
       " '- decorator=4.1.2=py27_0\\n',\n",
       " '- entrypoints=0.2.3=py27_0\\n',\n",
       " '- enum34=1.1.6=py27_0\\n',\n",
       " '- et_xmlfile=1.0.1=py27_0\\n',\n",
       " '- functools32=3.2.3.2=py27_0\\n',\n",
       " '- get_terminal_size=1.0.0=py27_0\\n',\n",
       " '- html5lib=0.999=py27_0\\n',\n",
       " '- icu=57.1=vc9_0\\n',\n",
       " '- idna=2.6=py27_0\\n',\n",
       " '- inflection=0.3.1=py27_0\\n',\n",
       " '- ipaddress=1.0.18=py27_0\\n',\n",
       " '- ipykernel=4.6.1=py27_0\\n',\n",
       " '- ipython=5.3.0=py27_0\\n',\n",
       " '- ipython_genutils=0.2.0=py27_0\\n',\n",
       " '- ipywidgets=6.0.0=py27_0\\n',\n",
       " '- jdcal=1.3=py27_0\\n',\n",
       " '- jinja2=2.9.6=py27_0\\n',\n",
       " '- jpeg=9b=vc9_0\\n',\n",
       " '- jsonschema=2.6.0=py27_0\\n',\n",
       " '- jupyter=1.0.0=py27_3\\n',\n",
       " '- jupyter_client=5.1.0=py27_0\\n',\n",
       " '- jupyter_console=5.2.0=py27_0\\n',\n",
       " '- jupyter_core=4.3.0=py27_0\\n',\n",
       " '- libpng=1.6.30=vc9_1\\n',\n",
       " '- markupsafe=1.0=py27_0\\n',\n",
       " '- matplotlib=2.0.2=np113py27_0\\n',\n",
       " '- mistune=0.7.4=py27_0\\n',\n",
       " '- mkl=2017.0.3=0\\n',\n",
       " '- more-itertools=3.2.0=py27_0\\n',\n",
       " '- nbconvert=5.2.1=py27_0\\n',\n",
       " '- nbformat=4.4.0=py27_0\\n',\n",
       " '- ndg-httpsclient=0.3.3=py27_0\\n',\n",
       " '- notebook=5.0.0=py27_0\\n',\n",
       " '- numpy=1.13.1=py27_0\\n',\n",
       " '- openpyxl=2.4.8=py27_0\\n',\n",
       " '- openssl=1.0.2l=vc9_0\\n',\n",
       " '- packaging=16.8=py27_0\\n',\n",
       " '- pandas=0.20.3=py27_0\\n',\n",
       " '- pandocfilters=1.4.2=py27_0\\n',\n",
       " '- path.py=10.3.1=py27_0\\n',\n",
       " '- pathlib2=2.3.0=py27_0\\n',\n",
       " '- patsy=0.4.1=py27_0\\n',\n",
       " '- pickleshare=0.7.4=py27_0\\n',\n",
       " '- pip=9.0.1=py27_1\\n',\n",
       " '- prompt_toolkit=1.0.15=py27_0\\n',\n",
       " '- pyasn1=0.2.3=py27_0\\n',\n",
       " '- pycparser=2.18=py27_0\\n',\n",
       " '- pygments=2.2.0=py27_0\\n',\n",
       " '- pyopenssl=0.14=py27_0\\n',\n",
       " '- pyparsing=2.2.0=py27_0\\n',\n",
       " '- pyqt=5.6.0=py27_2\\n',\n",
       " '- python=2.7.13=1\\n',\n",
       " '- python-dateutil=2.6.1=py27_0\\n',\n",
       " '- pytz=2017.2=py27_0\\n',\n",
       " '- pyzmq=16.0.2=py27_0\\n',\n",
       " '- qt=5.6.2=vc9_6\\n',\n",
       " '- qtconsole=4.3.1=py27_0\\n',\n",
       " '- quandl=3.1.0=py27_0\\n',\n",
       " '- requests=2.14.2=py27_0\\n',\n",
       " '- scandir=1.5=py27_0\\n',\n",
       " '- scipy=0.19.1=np113py27_0\\n',\n",
       " '- seaborn=0.8=py27_0\\n',\n",
       " '- setuptools=36.4.0=py27_1\\n',\n",
       " '- simplegeneric=0.8.1=py27_1\\n',\n",
       " '- singledispatch=3.4.0.3=py27_0\\n',\n",
       " '- sip=4.18=py27_0\\n',\n",
       " '- six=1.10.0=py27_0\\n',\n",
       " '- sqlite=3.13.0=vc9_1\\n',\n",
       " '- ssl_match_hostname=3.5.0.1=py27_0\\n',\n",
       " '- statsmodels=0.8.0=np113py27_0\\n',\n",
       " '- subprocess32=3.2.7=py27_0\\n',\n",
       " '- testpath=0.3.1=py27_0\\n',\n",
       " '- tk=8.5.18=vc9_0\\n',\n",
       " '- tornado=4.5.2=py27_0\\n',\n",
       " '- traitlets=4.3.2=py27_0\\n',\n",
       " '- vc=9=0\\n',\n",
       " '- vs2008_runtime=9.00.30729.5054=0\\n',\n",
       " '- wcwidth=0.1.7=py27_0\\n',\n",
       " '- wheel=0.29.0=py27_0\\n',\n",
       " '- widgetsnbextension=3.0.2=py27_0\\n',\n",
       " '- win_unicode_console=0.5=py27_0\\n',\n",
       " '- wincertstore=0.2=py27_0\\n',\n",
       " '- xlrd=1.1.0=py27_0\\n',\n",
       " '- xlsxwriter=0.9.8=py27_0\\n',\n",
       " '- xlwt=1.3.0=py27_0\\n',\n",
       " '- zlib=1.2.11=vc9_0\\n',\n",
       " '  - pip:\\n',\n",
       " '  - backports-abc==0.5\\n',\n",
       " '  - backports.shutil-get-terminal-size==1.0.0\\n',\n",
       " '  - backports.ssl-match-hostname==3.5.0.1\\n',\n",
       " '  - chardet==3.0.4\\n',\n",
       " '  - et-xmlfile==1.0.1\\n',\n",
       " '  - forex-python==0.3.2\\n',\n",
       " '  - ipython-genutils==0.2.0\\n',\n",
       " '  - jupyter-client==5.1.0\\n',\n",
       " '  - jupyter-console==5.2.0\\n',\n",
       " '  - jupyter-core==4.3.0\\n',\n",
       " '  - prompt-toolkit==1.0.15\\n',\n",
       " '  - simplejson==3.11.1\\n',\n",
       " '  - urllib3==1.22\\n',\n",
       " '  - win-unicode-console==0.5\\n',\n",
       " '  - argcomplete==1.8.2\\n',\n",
       " '  - beautifulsoup4==4.5.3\\n',\n",
       " '  - distribute==0.7.3\\n',\n",
       " '  - docx2txt==0.6\\n',\n",
       " '  - ebooklib==0.15\\n',\n",
       " '  - lxml==4.1.0\\n',\n",
       " '  - olefile==0.44\\n',\n",
       " '  - pdfminer==20140328\\n',\n",
       " '  - pillow==4.3.0\\n',\n",
       " '  - pocketsphinx==0.1.3\\n',\n",
       " '  - pypdf2==1.26.0\\n',\n",
       " '  - python-pptx==0.6.5\\n',\n",
       " '  - slate==0.3\\n',\n",
       " '  - speechrecognition==3.6.3\\n',\n",
       " '  - textract==1.6.1\\n',\n",
       " '  - xlrd==1.0.0\\n',\n",
       " '  - xlsxwriter==1.0.2\\n',\n",
       " 'prefix: C:\\\\ProgramData\\\\Anaconda2\\\\envs\\\\proto_bal\\n']"
      ]
     },
     "execution_count": 56,
     "metadata": {},
     "output_type": "execute_result"
    }
   ],
   "source": [
    "new_yaml"
   ]
  },
  {
   "cell_type": "code",
   "execution_count": null,
   "metadata": {
    "collapsed": true
   },
   "outputs": [],
   "source": []
  }
 ],
 "metadata": {
  "kernelspec": {
   "display_name": "Python 2",
   "language": "python",
   "name": "python2"
  },
  "language_info": {
   "codemirror_mode": {
    "name": "ipython",
    "version": 2
   },
   "file_extension": ".py",
   "mimetype": "text/x-python",
   "name": "python",
   "nbconvert_exporter": "python",
   "pygments_lexer": "ipython2",
   "version": "2.7.13"
  }
 },
 "nbformat": 4,
 "nbformat_minor": 2
}
