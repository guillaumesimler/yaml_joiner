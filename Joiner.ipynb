{
 "cells": [
  {
   "cell_type": "markdown",
   "metadata": {},
   "source": [
    "# YAML Joiner\n",
    "\n",
    "## Aims\n",
    "\n",
    "The aim of this small module is to merge two exported [anaconda](https://www.anaconda.com/) environment files (.yml or .yaml).\n",
    "\n",
    "There is no easy way to merge the two files without duplicating some entries. "
   ]
  },
  {
   "cell_type": "code",
   "execution_count": 1,
   "metadata": {
    "collapsed": true
   },
   "outputs": [],
   "source": [
    "# Import the modules\n",
    "\n",
    "import os"
   ]
  },
  {
   "cell_type": "code",
   "execution_count": 2,
   "metadata": {
    "collapsed": true
   },
   "outputs": [],
   "source": [
    "# Declare variables, the yaml files to merge \n",
    "\n",
    "file_master = \"src/proto_bal.yaml\"\n",
    "file_slave = \"src/STEPv1.yaml\"\n",
    "file_target = \"proto_bal.yaml\""
   ]
  },
  {
   "cell_type": "code",
   "execution_count": 3,
   "metadata": {
    "collapsed": true
   },
   "outputs": [],
   "source": [
    "def import_file(file):\n",
    "    \"\"\" returns the parts of the files to be duplicated:\n",
    "        - dependencies\n",
    "        - its pip subparts\n",
    "        \n",
    "        Args: the file name\n",
    "        \n",
    "        Returns:\n",
    "        - a list of the dependencies\n",
    "        - a list of the pip entries\n",
    "    \"\"\"\n",
    "    \n",
    "    # 1. Import the file as a list of lines\n",
    "    with open(file) as f:\n",
    "        lines = f.readlines()\n",
    "    \n",
    "    # 2. declare the variables    \n",
    "    dependencies = []\n",
    "    pip = []\n",
    "    write_dep = False\n",
    "    write_pip = False\n",
    "    \n",
    "    # 3. loop the list to be searched \n",
    "    for line in lines:\n",
    "        if write_dep:\n",
    "            dependencies.append(line)\n",
    "        if write_pip:\n",
    "            pip.append(line)\n",
    "        \n",
    "        # 3.1. Enable the addition of dependencies\n",
    "        #      when the header is found\n",
    "        if \"dependencies\" in line:\n",
    "            write_dep = True\n",
    "        \n",
    "        # 3.2. Enable the addition of pip\n",
    "        #      when the header is found and close \n",
    "        #      the dependencies writing\n",
    "        if \"pip:\" in line:\n",
    "            write_pip = True\n",
    "            write_dep = False\n",
    "            \n",
    "        # 3.3. Break the list when prefix is call\n",
    "        if \"prefix:\" in line:\n",
    "            break\n",
    "    \n",
    "    # 4. Clean up the list: they kicking the last entry\n",
    "    #    which is always the following header\n",
    "    \n",
    "    dependencies = dependencies[:-1]\n",
    "    pip = pip[:-1]\n",
    "    \n",
    "    return dependencies, pip"
   ]
  },
  {
   "cell_type": "code",
   "execution_count": 4,
   "metadata": {
    "collapsed": true
   },
   "outputs": [],
   "source": [
    "# Fetch the data:\n",
    "# \n",
    "slave_dep, slave_pip = import_file(file_slave)\n",
    "master_dep, master_pip = import_file(file_master)"
   ]
  },
  {
   "cell_type": "code",
   "execution_count": 5,
   "metadata": {
    "collapsed": true
   },
   "outputs": [],
   "source": [
    "def add_master(masters, slaves):\n",
    "    \"\"\" extracts the missing entries out of slaves\n",
    "        \n",
    "        Args:\n",
    "        - master, the file where the results should be merged to\n",
    "        - slave, the file from where the additions come\n",
    "\n",
    "        Returns:\n",
    "        - The differences\n",
    "    \"\"\"\n",
    "    output = []\n",
    "    for slave in slaves:\n",
    "        \n",
    "        slave_name = slave[:slave.index(\"=\")]\n",
    "        counter = 0\n",
    "        \n",
    "        for master in masters:\n",
    "            if slave_name in master:\n",
    "                counter +=1\n",
    "                break\n",
    "        \n",
    "        if counter == 0:\n",
    "            output.append(slave)\n",
    "            \n",
    "    return output"
   ]
  },
  {
   "cell_type": "code",
   "execution_count": 6,
   "metadata": {},
   "outputs": [
    {
     "name": "stdout",
     "output_type": "stream",
     "text": [
      "Adding 11 dependencies\n",
      "Adding 7 pip entries\n"
     ]
    }
   ],
   "source": [
    "# Extract the difference from the dependencies\n",
    "# and join it to the master values\n",
    "\n",
    "dep_add = add_master(master_dep, slave_dep)\n",
    "master_dep += dep_add\n",
    "\n",
    "print \"Adding %s dependencies\" %len(dep_add)\n",
    "# Extract the difference from the pip entries\n",
    "# and join it to the master values\n",
    "\n",
    "pip_add = add_master(master_pip, slave_pip)\n",
    "master_pip += pip_add\n",
    "\n",
    "print \"Adding %s pip entries\" %len(pip_add)"
   ]
  },
  {
   "cell_type": "code",
   "execution_count": 7,
   "metadata": {
    "collapsed": true
   },
   "outputs": [],
   "source": [
    "def import_headers(file):\n",
    "    \"\"\" Returns the header and closing statements\n",
    "        which remains constant\n",
    "    \"\"\"\n",
    "    with open(file) as f:\n",
    "        lines = f.readlines()\n",
    "        \n",
    "    header = []\n",
    "\n",
    "    for line in lines:\n",
    "        header.append(line)\n",
    "        \n",
    "        if \"dependencies\" in line:\n",
    "            break\n",
    "    \n",
    "    closing = lines[-2:-1]\n",
    "    \n",
    "    return header, closing"
   ]
  },
  {
   "cell_type": "code",
   "execution_count": 8,
   "metadata": {
    "collapsed": true
   },
   "outputs": [],
   "source": [
    "master_head, master_closing = import_headers(file_master)"
   ]
  },
  {
   "cell_type": "code",
   "execution_count": 9,
   "metadata": {
    "collapsed": true
   },
   "outputs": [],
   "source": [
    "new_yaml = master_head + master_dep + ['- pip:\\n'] + master_pip + master_closing"
   ]
  },
  {
   "cell_type": "code",
   "execution_count": 10,
   "metadata": {
    "collapsed": true
   },
   "outputs": [],
   "source": [
    "def write_to_file(filename, list_lines, path = 'dir/'):\n",
    "    \"\"\" writes the list to a file\n",
    "    \n",
    "        Args:\n",
    "        - filename, as string\n",
    "        - list_lines, the list we produced\n",
    "        - path, as a string\n",
    "    \"\"\"\n",
    "    with open(path + filename, \"w\") as f:\n",
    "        for line in list_lines:\n",
    "            f.write(line)\n",
    "            \n",
    "    return"
   ]
  },
  {
   "cell_type": "code",
   "execution_count": 11,
   "metadata": {
    "collapsed": true
   },
   "outputs": [],
   "source": [
    "write_to_file(file_target, new_yaml)"
   ]
  },
  {
   "cell_type": "code",
   "execution_count": null,
   "metadata": {
    "collapsed": true
   },
   "outputs": [],
   "source": []
  }
 ],
 "metadata": {
  "kernelspec": {
   "display_name": "Python 2",
   "language": "python",
   "name": "python2"
  },
  "language_info": {
   "codemirror_mode": {
    "name": "ipython",
    "version": 2
   },
   "file_extension": ".py",
   "mimetype": "text/x-python",
   "name": "python",
   "nbconvert_exporter": "python",
   "pygments_lexer": "ipython2",
   "version": "2.7.13"
  }
 },
 "nbformat": 4,
 "nbformat_minor": 2
}
