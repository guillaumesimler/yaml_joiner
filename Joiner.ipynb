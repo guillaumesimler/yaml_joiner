{
 "cells": [
  {
   "cell_type": "markdown",
   "metadata": {},
   "source": [
    "# YAML Joiner\n",
    "\n",
    "## Import module\n",
    "\n"
   ]
  },
  {
   "cell_type": "code",
   "execution_count": 1,
   "metadata": {
    "collapsed": true
   },
   "outputs": [],
   "source": [
    "# Import the modules\n",
    "\n",
    "import os"
   ]
  },
  {
   "cell_type": "code",
   "execution_count": 2,
   "metadata": {},
   "outputs": [],
   "source": [
    "def import_file(file):\n",
    "    with open(file) as f:\n",
    "        lines = f.readlines()\n",
    "        \n",
    "    dependencies = []\n",
    "    pip = []\n",
    "    write_dep = False\n",
    "    write_pip = False\n",
    "    \n",
    "    for line in lines:\n",
    "        if write_dep:\n",
    "            dependencies.append(line)\n",
    "        if write_pip:\n",
    "            pip.append(line)\n",
    "            \n",
    "        if \"dependencies\" in line:\n",
    "            write_dep = True\n",
    "        \n",
    "        if \"pip:\" in line:\n",
    "            write_pip = True\n",
    "            write_dep = False\n",
    "            \n",
    "        \n",
    "        if \"prefix:\" in line:\n",
    "            break\n",
    "    \n",
    "    dependencies = dependencies[:-1]\n",
    "    pip = pip[:-1]\n",
    "    return dependencies, pip"
   ]
  },
  {
   "cell_type": "code",
   "execution_count": 3,
   "metadata": {},
   "outputs": [],
   "source": [
    "slave_dep, slave_pip = import_file(\"src/PDFv1.yaml\")\n",
    "master_dep, master_pip = import_file(\"src/proto_bal.yaml\")"
   ]
  },
  {
   "cell_type": "code",
   "execution_count": 4,
   "metadata": {},
   "outputs": [],
   "source": [
    "def add_master(masters, slaves):\n",
    "    \n",
    "    output = []\n",
    "    for slave in slaves:\n",
    "        \n",
    "        slave_name = slave[:slave.index(\"=\")]\n",
    "        counter = 0\n",
    "        \n",
    "        for master in masters:\n",
    "            if slave_name in master:\n",
    "                counter +=1\n",
    "                break\n",
    "        \n",
    "        if counter == 0:\n",
    "            output.append(slave)\n",
    "            \n",
    "    return output"
   ]
  },
  {
   "cell_type": "code",
   "execution_count": 5,
   "metadata": {},
   "outputs": [
    {
     "data": {
      "text/plain": [
       "[]"
      ]
     },
     "execution_count": 5,
     "metadata": {},
     "output_type": "execute_result"
    }
   ],
   "source": [
    "add_master(master_dep, slave_dep)"
   ]
  },
  {
   "cell_type": "code",
   "execution_count": 6,
   "metadata": {},
   "outputs": [
    {
     "data": {
      "text/plain": [
       "['  - argcomplete==1.8.2\\n',\n",
       " '  - beautifulsoup4==4.5.3\\n',\n",
       " '  - distribute==0.7.3\\n',\n",
       " '  - docx2txt==0.6\\n',\n",
       " '  - ebooklib==0.15\\n',\n",
       " '  - lxml==4.1.0\\n',\n",
       " '  - olefile==0.44\\n',\n",
       " '  - pdfminer==20140328\\n',\n",
       " '  - pillow==4.3.0\\n',\n",
       " '  - pocketsphinx==0.1.3\\n',\n",
       " '  - pypdf2==1.26.0\\n',\n",
       " '  - python-pptx==0.6.5\\n',\n",
       " '  - slate==0.3\\n',\n",
       " '  - speechrecognition==3.6.3\\n',\n",
       " '  - textract==1.6.1\\n',\n",
       " '  - xlrd==1.0.0\\n',\n",
       " '  - xlsxwriter==1.0.2\\n']"
      ]
     },
     "execution_count": 6,
     "metadata": {},
     "output_type": "execute_result"
    }
   ],
   "source": [
    "add_master(master_pip, slave_pip)"
   ]
  },
  {
   "cell_type": "code",
   "execution_count": 7,
   "metadata": {},
   "outputs": [
    {
     "data": {
      "text/plain": [
       "['  - argcomplete==1.8.2\\n',\n",
       " '  - backports-abc==0.5\\n',\n",
       " '  - backports.shutil-get-terminal-size==1.0.0\\n',\n",
       " '  - backports.ssl-match-hostname==3.5.0.1\\n',\n",
       " '  - beautifulsoup4==4.5.3\\n',\n",
       " '  - chardet==2.3.0\\n',\n",
       " '  - distribute==0.7.3\\n',\n",
       " '  - docx2txt==0.6\\n',\n",
       " '  - ebooklib==0.15\\n',\n",
       " '  - ipython-genutils==0.2.0\\n',\n",
       " '  - jupyter-client==5.1.0\\n',\n",
       " '  - jupyter-console==5.2.0\\n',\n",
       " '  - jupyter-core==4.3.0\\n',\n",
       " '  - lxml==4.1.0\\n',\n",
       " '  - olefile==0.44\\n',\n",
       " '  - pdfminer==20140328\\n',\n",
       " '  - pillow==4.3.0\\n',\n",
       " '  - pocketsphinx==0.1.3\\n',\n",
       " '  - prompt-toolkit==1.0.15\\n',\n",
       " '  - pypdf2==1.26.0\\n',\n",
       " '  - python-pptx==0.6.5\\n',\n",
       " '  - slate==0.3\\n',\n",
       " '  - speechrecognition==3.6.3\\n',\n",
       " '  - textract==1.6.1\\n',\n",
       " '  - win-unicode-console==0.5\\n',\n",
       " '  - xlrd==1.0.0\\n',\n",
       " '  - xlsxwriter==1.0.2\\n']"
      ]
     },
     "execution_count": 7,
     "metadata": {},
     "output_type": "execute_result"
    }
   ],
   "source": [
    "slave_pip"
   ]
  },
  {
   "cell_type": "code",
   "execution_count": null,
   "metadata": {
    "collapsed": true
   },
   "outputs": [],
   "source": []
  }
 ],
 "metadata": {
  "kernelspec": {
   "display_name": "Python 2",
   "language": "python",
   "name": "python2"
  },
  "language_info": {
   "codemirror_mode": {
    "name": "ipython",
    "version": 2
   },
   "file_extension": ".py",
   "mimetype": "text/x-python",
   "name": "python",
   "nbconvert_exporter": "python",
   "pygments_lexer": "ipython2",
   "version": "2.7.13"
  }
 },
 "nbformat": 4,
 "nbformat_minor": 2
}
